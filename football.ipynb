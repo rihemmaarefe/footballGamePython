{
  "nbformat": 4,
  "nbformat_minor": 0,
  "metadata": {
    "colab": {
      "provenance": [],
      "authorship_tag": "ABX9TyNMuqN9AUmIhz1tDH7g8ULx",
      "include_colab_link": true
    },
    "kernelspec": {
      "name": "python3",
      "display_name": "Python 3"
    },
    "language_info": {
      "name": "python"
    }
  },
  "cells": [
    {
      "cell_type": "markdown",
      "metadata": {
        "id": "view-in-github",
        "colab_type": "text"
      },
      "source": [
        "<a href=\"https://colab.research.google.com/github/rihemmaarefe/footballGamePython/blob/main/football.ipynb\" target=\"_parent\"><img src=\"https://colab.research.google.com/assets/colab-badge.svg\" alt=\"Open In Colab\"/></a>"
      ]
    },
    {
      "cell_type": "code",
      "execution_count": null,
      "metadata": {
        "id": "H_Ocs353WH5i"
      },
      "outputs": [],
      "source": [
        "import random\n",
        "\n",
        "# Teams and their stats\n",
        "team_a = {\"name\": \"Team A\", \"attack\": 80, \"defense\": 60}\n",
        "team_b = {\"name\": \"Team B\", \"attack\": 70, \"defense\": 75}\n",
        "\n",
        "# Function to simulate a single attack by a team\n",
        "def simulate_attack(team):\n",
        "    return random.randint(1, team[\"attack\"]) > random.randint(1, 100 - team[\"defense\"])\n",
        "\n",
        "# Function to simulate a single round of play\n",
        "def play_round(team1, team2):\n",
        "    # Team 1 attacks, Team 2 defends\n",
        "    if simulate_attack(team1):\n",
        "        print(f\"{team1['name']} scores!\")\n",
        "        return 1\n",
        "    else:\n",
        "        print(f\"{team2['name']} defends.\")\n",
        "        return 0\n",
        "\n",
        "# Function to play the game\n",
        "def play_game():\n",
        "    # Keep track of the score\n",
        "    score = {\"Team A\": 0, \"Team B\": 0}\n",
        "    \n",
        "    # Simulate 10 rounds of play\n",
        "    for i in range(10):\n",
        "        print(f\"\\nRound {i+1}:\")\n",
        "        if i % 2 == 0:\n",
        "            score[\"Team A\"] += play_round(team_a, team_b)\n",
        "        else:\n",
        "            score[\"Team B\"] += play_round(team_b, team_a)\n",
        "    \n",
        "    # Print the final score\n",
        "    print(\"\\nFinal score:\")\n",
        "    print(f\"{team_a['name']}: {score['Team A']}\")\n",
        "    print(f\"{team_b['name']}: {score['Team B']}\")\n",
        "    if score[\"Team A\"] > score[\"Team B\"]:\n",
        "        print(f\"{team_a['name']} wins!\")\n",
        "    elif score[\"Team B\"] > score[\"Team A\"]:\n",
        "        print(f\"{team_b['name']} wins!\")\n",
        "    else:\n",
        "        print(\"It's a tie!\")\n",
        "\n",
        "# Play the game\n",
        "play_game()\n"
      ]
    }
  ]
}